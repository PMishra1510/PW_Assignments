{
 "cells": [
  {
   "cell_type": "code",
   "execution_count": 1,
   "id": "d725ad78-d28f-4b8b-ba9f-e1c79c4056c3",
   "metadata": {},
   "outputs": [],
   "source": [
    "#Q1. Create one variable containing following type of data\n",
    "\n",
    "#string\n",
    "str_1 = \"test string\"\n",
    "\n",
    "#list\n",
    "list_1 = [1,2,3,4,True,45.89, \"pwskills\"]\n",
    "\n",
    "#float\n",
    "random_float = 3.14\n",
    "\n",
    "#tuple\n",
    "mytuple = (\"apple\", \"banana\", \"cherry\")"
   ]
  },
  {
   "cell_type": "code",
   "execution_count": 3,
   "id": "2517cffb-1b88-4a0b-9679-d223b1577606",
   "metadata": {},
   "outputs": [
    {
     "name": "stdout",
     "output_type": "stream",
     "text": [
      "var1 is of type  <class 'str'>\n",
      "var2 is of type  <class 'str'>\n",
      "var3 is of type  <class 'list'>\n",
      "var4 is of type  <class 'int'>\n"
     ]
    }
   ],
   "source": [
    "#Q2. Given are some following variables containing data\n",
    "var1 = ' '\n",
    "print('var1 is of type ', type(var1))\n",
    "\n",
    "var2 = '[DS, ML, Python]'\n",
    "print('var2 is of type ', type(var2))\n",
    "\n",
    "var3 = ['DS', 'ML', 'Python']\n",
    "print('var3 is of type ', type(var3))\n",
    "\n",
    "var4 = 1\n",
    "print('var4 is of type ', type(var4))"
   ]
  },
  {
   "cell_type": "code",
   "execution_count": 4,
   "id": "ca034cc2-2040-4a39-a38f-d16af30ced54",
   "metadata": {},
   "outputs": [
    {
     "name": "stdout",
     "output_type": "stream",
     "text": [
      "5.0\n",
      "2\n",
      "9\n",
      "27\n"
     ]
    }
   ],
   "source": [
    "# Explain the use of the following operators using an example:\n",
    "# (i)\t/\n",
    "# (ii)\t% \n",
    "# (iii)\t//\n",
    "# (iv)\t**\n",
    "\n",
    "print(20 / 4)\n",
    "print(38 % 3)\n",
    "print(39 // 4)\n",
    "print(3 ** 3)"
   ]
  },
  {
   "cell_type": "code",
   "execution_count": 5,
   "id": "f43ab181-e8fb-48d9-9913-d7a3845c5e95",
   "metadata": {},
   "outputs": [
    {
     "name": "stdout",
     "output_type": "stream",
     "text": [
      "1\n",
      "2\n",
      "3\n",
      "4\n",
      "5\n",
      "3.14\n",
      "True\n",
      "(3+7j)\n",
      "pwskills\n",
      "False\n"
     ]
    }
   ],
   "source": [
    "# Q4. Create a list of length 10 of your choice containing multiple types of data. Using for loop print the\n",
    "# element and its data type\n",
    "\n",
    "mylist = [1, 2, 3, 4, 5, 3.14, True, 3+7j, 'pwskills', False]\n",
    "\n",
    "for i in mylist:\n",
    "    print(i)"
   ]
  },
  {
   "cell_type": "code",
   "execution_count": 6,
   "id": "aa516c4f-9cee-463a-8a69-7256bda6b983",
   "metadata": {},
   "outputs": [],
   "source": [
    "#Q5 Using a while loop, verify if the number A is purely divisible by number B and if so then how many\n",
    "# times it can be divisible.\n",
    "num_a = 36\n",
    "num_b = 12"
   ]
  },
  {
   "cell_type": "code",
   "execution_count": 11,
   "id": "0163fd0a-324c-4fbf-9a90-c96a16bf43bb",
   "metadata": {},
   "outputs": [
    {
     "name": "stdout",
     "output_type": "stream",
     "text": [
      "0  is divisible by 3\n",
      "1  is not divisible by 3\n",
      "2  is not divisible by 3\n",
      "3  is divisible by 3\n",
      "4  is not divisible by 3\n",
      "5  is not divisible by 3\n",
      "6  is divisible by 3\n",
      "7  is not divisible by 3\n",
      "8  is not divisible by 3\n",
      "9  is divisible by 3\n",
      "10  is not divisible by 3\n",
      "11  is not divisible by 3\n",
      "12  is divisible by 3\n",
      "13  is not divisible by 3\n",
      "14  is not divisible by 3\n",
      "15  is divisible by 3\n",
      "16  is not divisible by 3\n",
      "17  is not divisible by 3\n",
      "18  is divisible by 3\n",
      "19  is not divisible by 3\n",
      "20  is not divisible by 3\n",
      "21  is divisible by 3\n",
      "22  is not divisible by 3\n",
      "23  is not divisible by 3\n",
      "24  is divisible by 3\n"
     ]
    }
   ],
   "source": [
    "# Q6. Create a list containing 25 int type data. Using for loop and if-else condition print if the element is\n",
    "# divisible by 3 or not.\n",
    "\n",
    "mylist = list(range(25))\n",
    "\n",
    "for i in mylist:\n",
    "    if i % 3 == 0:\n",
    "        print(i, ' is divisible by 3')\n",
    "    else:\n",
    "        print(i, ' is not divisible by 3')\n"
   ]
  },
  {
   "cell_type": "code",
   "execution_count": 15,
   "id": "b3f1f34c-1718-43c0-b091-76e7a205131d",
   "metadata": {},
   "outputs": [
    {
     "name": "stdout",
     "output_type": "stream",
     "text": [
      "[1, 2, 3, 5, True, 3.14]\n",
      "[1, 2, 3, 'pwskills', True, 3.14]\n",
      "python\n"
     ]
    }
   ],
   "source": [
    "# Q7. What do you understand about mutable and immutable data types? Give examples for both showing\n",
    "# this property.\n",
    "\n",
    "# Mutable object's data can be changed at an index position while immutable object's data cannot be changed at\n",
    "# an index position\n",
    "\n",
    "mylist_1 = [1,2,3,5,True, 3.14]\n",
    "print(mylist_1)\n",
    "\n",
    "mylist_1[3] = 'pwskills' \n",
    "print(mylist_1)     # value 5 got replaced by str 'pwskills'\n",
    "\n",
    "mystr_1 = 'python'\n",
    "print(mystr_1)\n",
    "\n",
    "# mystr_1[2] = 'e'  # this gives error"
   ]
  },
  {
   "cell_type": "code",
   "execution_count": null,
   "id": "f40a9461-9183-4f56-b103-50413f70e898",
   "metadata": {},
   "outputs": [],
   "source": []
  }
 ],
 "metadata": {
  "kernelspec": {
   "display_name": "Python 3 (ipykernel)",
   "language": "python",
   "name": "python3"
  },
  "language_info": {
   "codemirror_mode": {
    "name": "ipython",
    "version": 3
   },
   "file_extension": ".py",
   "mimetype": "text/x-python",
   "name": "python",
   "nbconvert_exporter": "python",
   "pygments_lexer": "ipython3",
   "version": "3.10.8"
  }
 },
 "nbformat": 4,
 "nbformat_minor": 5
}
